{
 "cells": [
  {
   "cell_type": "markdown",
   "metadata": {},
   "source": [
    "# **Thermodynamic Properties change in Real Gases**\n",
    "\n",
    "**Objective:**\n",
    "\n",
    "Find How Gas Properties of a gas change between an initial state **E1** and a final state **E2**:"
   ]
  },
  {
   "cell_type": "markdown",
   "metadata": {},
   "source": [
    "## Initial and final state definition:"
   ]
  },
  {
   "cell_type": "code",
   "execution_count": 10,
   "metadata": {},
   "outputs": [
    {
     "name": "stdout",
     "output_type": "stream",
     "text": [
      "State 1: T = 173.14999999999998 K, ρ = 18800 mol/m3, ν = 0.000053 m3/mol, P_id (bar) = 270.65 bar\n",
      "State 2: T = 298.15 K, ρ = 750 mol/m3, ν = 0.001333 m3/mol, P_id (bar) = 18.59 bar\n"
     ]
    }
   ],
   "source": [
    "# region imports -------------------\n",
    "import numpy as np\n",
    "import scipy\n",
    "from scipy.integrate import quad\n",
    "import scipy.constants\n",
    "import matplotlib.pyplot as plt\n",
    "import pandas as pd\n",
    "# endregion  ----------------------\n",
    "\n",
    "\n",
    "# States information --------------\n",
    "R = scipy.constants.R  # J/(mol*K)\n",
    "T1 = 273.15 - 100       # K\n",
    "ρ1 = 18800              # mol/m3\n",
    "ν1 = 1/ ρ1              # m3/mol\n",
    "P1_id = R* T1 / ν1      # Pa\n",
    "\n",
    "T2 = 273.15 + 25        # K\n",
    "ρ2 = 750                # mol/m3\n",
    "ν2 = 1/ ρ2              # m3/mol\n",
    "P2_id = R* T2 / ν2      # Pa\n",
    "# ---------------------------------\n",
    "\n",
    "print(f\"State 1: T = {T1} K, ρ = {ρ1} mol/m3, ν = {ν1:.6f} m3/mol, P_id (bar) = {P1_id / 1e5:.2f} bar\")\n",
    "print(f\"State 2: T = {T2} K, ρ = {ρ2} mol/m3, ν = {ν2:.6f} m3/mol, P_id (bar) = {P2_id / 1e5:.2f} bar\")\n"
   ]
  },
  {
   "cell_type": "markdown",
   "metadata": {},
   "source": [
    "## Mathematical Derivations"
   ]
  },
  {
   "cell_type": "markdown",
   "metadata": {},
   "source": [
    "___\n",
    "\n",
    "### Ideal Gas properties $∆j^{IG}$\n",
    "\n",
    "**General Form:**\n",
    "\n",
    "$$\n",
    "\\Delta J^{\\text{IG}} = \\int_{T_1}^{T_2} \\left( \\frac{\\partial J'}{\\partial T} \\right)_{P = P_1} dT + \\int_{P_1}^{P_2} \\left( \\frac{\\partial J'}{\\partial P} \\right)_{T = T_2} dP\n",
    "$$\n",
    "\n"
   ]
  },
  {
   "cell_type": "markdown",
   "metadata": {},
   "source": [
    "____\n",
    "### Δu (IG)\n",
    "\n",
    "$$\n",
    "du = T\\,ds - P\\,dv\n",
    "$$\n",
    "\n",
    "Calculating the partial form and applying the entrophy relations (6s):\n",
    "\n",
    "$$\n",
    "\\left(\\frac{\\partial u}{\\partial T}\\right)_P = T\\left(\\frac{\\partial s}{\\partial T}\\right)_P - P\\left(\\frac{\\partial v}{\\partial T}\\right)_P \n",
    "= T\\left(\\frac{C_P}{T}\\right) - P\\left(\\frac{R}{P}\\right) \n",
    "\\\\\n",
    "\\left(\\frac{\\partial u}{\\partial T}\\right)_P= C_P + R\n",
    "$$\n",
    "\n",
    "\n",
    "And at constant temperature:\n",
    "\n",
    "\n",
    "$$\n",
    "\\left(\\frac{\\partial u}{\\partial P}\\right)_T = T\\left(\\frac{\\partial s}{\\partial P}\\right)_T - P\\left(\\frac{\\partial v}{\\partial P}\\right)_T \n",
    "= T\\left(-\\frac{\\partial v}{\\partial T}\\right)_P - P\\left(-\\frac{RT}{P^2}\\right) \n",
    "= -\\frac{TR}{P} + \\frac{TR}{P} = 0\n",
    "\\\\ \n",
    "\\left(\\frac{\\partial u}{\\partial P}\\right)_T = 0\n",
    "$$\n",
    "\n",
    "Internal energy only depends on temperature for an ideal gas:\n",
    "$$\n",
    "\\Delta u^{\\text{IG}} = \\int_{T_1}^{T_2} \\left(C_P + R\\right) dT = \\int_{T_1}^{T_2} C_V(T) \\, dT\n",
    "$$"
   ]
  },
  {
   "cell_type": "code",
   "execution_count": 11,
   "metadata": {},
   "outputs": [
    {
     "name": "stdout",
     "output_type": "stream",
     "text": [
      "Δu_id = 5307.19 J/mol\n"
     ]
    }
   ],
   "source": [
    "# Ideal gases -----------------------------------\n",
    "def Cp(T):\n",
    "\n",
    "    # Ideal gas CP coefficients for methane -----\n",
    "    A = 33298\n",
    "    B = 79933\n",
    "    C = 2086.9\n",
    "    D = 41602\n",
    "    E = 991.96\n",
    "    # -------------------------------------------\n",
    "    c_T = C/T\n",
    "    E_T = E/T\n",
    "    Cp = A + B*(c_T/np.sinh(c_T))**2 + D*(E_T/np.cosh(E_T))**2 # J/kmol*K\n",
    "    Cp = Cp / 1000  # J/(mol*K)\n",
    "    return Cp \n",
    "\n",
    "def Cv(T, R=scipy.constants.R):\n",
    "    return Cp(T) + R\n",
    "\n",
    "Δu_id = quad(lambda T: Cv(T), T1, T2)[0]\n",
    "print(f'Δu_id = {Δu_id:.2f} J/mol')"
   ]
  },
  {
   "cell_type": "markdown",
   "metadata": {},
   "source": [
    "____\n",
    "### Δh (IG)\n",
    "\n",
    "$$\n",
    "dh = T\\,ds + v\\,dp\n",
    "$$\n",
    "\n",
    "Calculating the partial form and applying the entropy relations (6s):\n",
    "\n",
    "$$\n",
    "\\left(\\frac{\\partial h}{\\partial T}\\right)_P = T\\left(\\frac{\\partial s}{\\partial T}\\right)_P + v\\left(\\frac{\\partial p}{\\partial T}\\right)_P\n",
    "= T\\left(\\frac{C_P}{T}\\right) + v \\cdot 0 \n",
    "\\\\\n",
    "\\left(\\frac{\\partial h}{\\partial T}\\right)_P = C_P\n",
    "$$\n",
    "\n",
    "And at constant temperature:\n",
    "\n",
    "$$\n",
    "\\left(\\frac{\\partial h}{\\partial P}\\right)_T = T\\left(\\frac{\\partial s}{\\partial P}\\right)_T + v\\left(\\frac{\\partial p}{\\partial P}\\right)_T\n",
    "= T\\left(-\\frac{\\partial v}{\\partial T}\\right)_P + v\\left(\\frac{\\partial p}{\\partial P}\\right)_T\n",
    "= -T\\left(\\frac{R}{P}\\right) + v\\left(\\frac{RT}{P^2}\\right)\n",
    "\\\\\n",
    "= -v + v = 0\n",
    "\\\\\n",
    "\\left(\\frac{\\partial h}{\\partial P}\\right)_T = 0\n",
    "$$\n",
    "\n",
    "Enthalpy only depends on temperature for an ideal gas:\n",
    "\n",
    "$$\n",
    "\\Delta h^{\\text{IG}} = \\int_{T_1}^{T_2} C_P(T) \\, dT\n",
    "$$"
   ]
  },
  {
   "cell_type": "code",
   "execution_count": 12,
   "metadata": {},
   "outputs": [
    {
     "name": "stdout",
     "output_type": "stream",
     "text": [
      "Δh_id = 4267.88 J/mol\n"
     ]
    }
   ],
   "source": [
    "Δh_id = quad(lambda T: Cp(T), T1, T2)[0]\n",
    "print(f'Δh_id = {Δh_id:.2f} J/mol')"
   ]
  },
  {
   "cell_type": "markdown",
   "metadata": {},
   "source": [
    "___\n",
    "### Δg (IG)\n",
    "\n",
    "$$\n",
    "dg = -s\\,dT + v\\,dp\n",
    "$$\n",
    "\n",
    "Taking the partial derivative with respect to temperature at constant pressure:\n",
    "\n",
    "$$\n",
    "\\left(\\frac{\\partial g}{\\partial T}\\right)_P = -s\\left(\\frac{\\partial T}{\\partial T}\\right)_P + v\\left(\\frac{\\partial p}{\\partial T}\\right)_P\n",
    "= -s(T, P)\n",
    "$$\n",
    "\n",
    "And the partial derivative with respect to pressure at constant temperature:\n",
    "\n",
    "$$\n",
    "\\left(\\frac{\\partial g}{\\partial P}\\right)_T = -s\\left(\\frac{\\partial T}{\\partial P}\\right)_T + v\\left(\\frac{\\partial p}{\\partial P}\\right)_T\n",
    "= 0 + v = \\frac{RT}{P}\n",
    "$$\n",
    "\n",
    "Therefore, the change in Gibbs free energy for an ideal gas is:\n",
    "\n",
    "$$\n",
    "\\Delta g^{\\text{IG}} = \\int_{T_1}^{T_2} -s \\, dT + \\int_{P_1}^{P_2} \\frac{RT}{P} \\, dP\n",
    "$$\n",
    "\n",
    "\n",
    "**I calculated the entropy at the given state from statistical mechanics**"
   ]
  },
  {
   "cell_type": "code",
   "execution_count": 13,
   "metadata": {},
   "outputs": [
    {
     "name": "stdout",
     "output_type": "stream",
     "text": [
      "Δg_id = -22736.83 J/mol\n"
     ]
    }
   ],
   "source": [
    "def s(T, V):\n",
    "\n",
    "    # Parameters for methane ---------------------------\n",
    "    kB = scipy.constants.Boltzmann  # J/K\n",
    "    h = scipy.constants.Planck  # J*s\n",
    "    N = scipy.constants.Avogadro  # mol^-1\n",
    "\n",
    "    # Methane Specific Parameters ----------------------\n",
    "    m_CH4 = 16.04e-3  # kg/mol\n",
    "    σ_ch4 = 12\n",
    "    θr_ch4 = [7.54, 7.54, 7.54]\n",
    "    θv_ch4 = [1870, 1870, 1870, 2180, 2180, 4170, 4320, 4320]\n",
    "    W0 = 1\n",
    "\n",
    "    # Entropy of ideal gas ------------------------------\n",
    "    term1 = np.log((2 * np.pi * m_CH4 / N * kB * T / h**2)**(3/2) * V * np.exp(5/2) / N)\n",
    "    # Rotational (nonlinear molecule)\n",
    "    θA, θB, θC = θr_ch4\n",
    "    term2 = np.log(1 / σ_ch4 * np.sqrt(np.pi * T**3 * np.exp(3) / (θA * θB * θC)))\n",
    "    # Vibrational \n",
    "    θv = np.array(θv_ch4)\n",
    "    term3 = np.sum((θv / T) / (np.exp(θv / T) - 1) - np.log(1 - np.exp(-θv / T)))\n",
    "    # Electronic \n",
    "    term4 = np.log(W0)\n",
    "    # Total entropy (per molecule, in kB units)\n",
    "    S_NK = term1 + term2 + term3 + term4\n",
    "    # molar entropy (J/mol*K)\n",
    "    S = S_NK * N * kB\n",
    "    return S\n",
    "\n",
    "\n",
    "Δg_id = - quad(lambda T: s(T, ν1), T1, T2)[0] + R*T2*quad(lambda P: 1/P, P1_id, P2_id)[0]\n",
    "print(f'Δg_id = {Δg_id:.2f} J/mol')\n"
   ]
  },
  {
   "cell_type": "markdown",
   "metadata": {},
   "source": [
    "___\n",
    "### Δs (IG)\n",
    "\n",
    "Applyting the entropy relations:\n",
    "\n",
    "$$\n",
    "\\left(\\frac{\\partial s}{\\partial T}\\right)_P = \\frac{C_P}{T}\n",
    "$$\n",
    "\n",
    "$$\n",
    "\\left(\\frac{\\partial s}{\\partial P}\\right)_T = -\\left(\\frac{\\partial v}{\\partial T}\\right)_P = -\\frac{R}{P}\n",
    "$$\n",
    "\n",
    "Therefore, the total entropy change for an ideal gas is:\n",
    "\n",
    "$$\n",
    "\\Delta s^{\\text{IG}} = \\int_{T_1}^{T_2} \\frac{C_P}{T} \\, dT - R \\int_{P_1}^{P_2} \\frac{1}{P} \\, dP\n",
    "$$"
   ]
  },
  {
   "cell_type": "code",
   "execution_count": 14,
   "metadata": {},
   "outputs": [
    {
     "name": "stdout",
     "output_type": "stream",
     "text": [
      "Δs_id = 40.77 J/(mol*K)\n"
     ]
    }
   ],
   "source": [
    "Δs_id = quad(lambda T: Cp(T) / T, T1, T2)[0] - R*quad(lambda P: 1/P, P1_id, P2_id)[0]\n",
    "print(f'Δs_id = {Δs_id:.2f} J/(mol*K)')"
   ]
  },
  {
   "cell_type": "markdown",
   "metadata": {},
   "source": [
    "___\n",
    "### Δv (IG)\n",
    "\n",
    "For an ideal gas, $ v = \\frac{RT}{P} $ the volume change is: (Here I'm just applying the definition but is not necessary at all 😅)\n",
    "\n",
    "$$\n",
    "\\left(\\frac{\\partial v}{\\partial T}\\right)_P = \\frac{R}{P_1}\n",
    "$$\n",
    "\n",
    "$$\n",
    "\\left(\\frac{\\partial v}{\\partial P}\\right)_T = -\\frac{RT_2}{P^2}\n",
    "$$\n",
    "\n",
    "The total volume change is:\n",
    "\n",
    "$$\n",
    "\\Delta v^{\\text{IG}} = \\int_{T_1}^{T_2} \\left(\\frac{R}{P_1}\\right) dT - \\int_{P_1}^{P_2} \\left(\\frac{RT_2}{P^2}\\right) dP\n",
    "$$\n",
    "\n",
    "Evaluating the integrals:\n",
    "\n",
    "$$\n",
    "\\Delta v^{\\text{IG}} = \\frac{R}{P_1}(T_2 - T_1) + RT_2\\left(\\frac{1}{P_2} - \\frac{1}{P_1}\\right)\n",
    "$$\n",
    "\n",
    "Final expression:\n",
    "\n",
    "$$\n",
    "\\Delta v^{\\text{IG}} = \\frac{RT_2}{P_2} - \\frac{RT_1}{P_1}\n",
    "$$\n"
   ]
  },
  {
   "cell_type": "code",
   "execution_count": 15,
   "metadata": {},
   "outputs": [
    {
     "name": "stdout",
     "output_type": "stream",
     "text": [
      "Δν_id = 1.280e-03 m3/mol\n"
     ]
    }
   ],
   "source": [
    "Δν_id = -R *T1/P1_id + R*T2/P2_id\n",
    "print(f'Δν_id = {Δν_id:.3e} m3/mol')"
   ]
  },
  {
   "cell_type": "markdown",
   "metadata": {},
   "source": [
    "### Summary"
   ]
  },
  {
   "cell_type": "code",
   "execution_count": 16,
   "metadata": {},
   "outputs": [
    {
     "name": "stdout",
     "output_type": "stream",
     "text": [
      "Summary of Ideal Gas Process Calculations:\n",
      "Δu_id = 5307.19 J/mol\n",
      "Δh_id = 4267.88 J/mol\n",
      "Δg_id = -22736.83 J/mol\n",
      "Δs_id = 40.77 J/(mol*K)\n",
      "Δν_id = 1.280e-03 m3/mol\n"
     ]
    }
   ],
   "source": [
    "# summary of previous prints\n",
    "print(\"Summary of Ideal Gas Process Calculations:\")\n",
    "print(f\"Δu_id = {Δu_id:.2f} J/mol\")\n",
    "print(f\"Δh_id = {Δh_id:.2f} J/mol\")\n",
    "print(f\"Δg_id = {Δg_id:.2f} J/mol\")\n",
    "print(f\"Δs_id = {Δs_id:.2f} J/(mol*K)\")\n",
    "print(f\"Δν_id = {Δν_id:.3e} m3/mol\")\n"
   ]
  },
  {
   "cell_type": "markdown",
   "metadata": {},
   "source": [
    "###  Departure Functions and deviation from ideal gas state $∆j^{'}$:"
   ]
  },
  {
   "cell_type": "markdown",
   "metadata": {},
   "source": [
    "Here I will calculate the properties based on Peng-Robinson EoS. The first three equations are given and the latter two are easy to get once programmed the first 3.\n",
    "\n",
    "- **Enthalpy departure**:\n",
    "  $$\n",
    "  \\Delta h' = -\\frac{RTb}{v - b} + \\frac{a \\alpha v}{v^2 + 2vb - b^2} - \\frac{a \\alpha}{2^{3/2} b} \\left[1 + k \\left( \\frac{T}{\\alpha T_c} \\right)^{1/2} \\right] \\ln \\left( \\frac{v + (1 - \\sqrt{2})b}{v + (1 + \\sqrt{2})b} \\right)\n",
    "  $$\n",
    "\n",
    "- **Entropy departure**:\n",
    "  $$\n",
    "  \\Delta s' = R \\ln \\left( \\frac{RT}{(v - b)P} \\right) - \\frac{a k}{4b} \\left( \\frac{2 \\alpha}{T T_c} \\right)^{1/2} \\ln \\left( \\frac{v + (1 - \\sqrt{2})b}{v + (1 + \\sqrt{2})b} \\right)\n",
    "  $$\n",
    "\n",
    "- **Volume departure**:\n",
    "  $$\n",
    "  \\Delta v' = \\frac{RT}{P} - v\n",
    "  $$\n",
    "\n",
    "With these three, other key departure functions are derived as:\n",
    "\n",
    "- **Internal energy departure**:\n",
    "  $$\n",
    "  \\Delta u' = \\Delta h' - P \\Delta v'\n",
    "  $$\n",
    "\n",
    "- **Gibbs free energy departure**:\n",
    "  $$\n",
    "  \\Delta g' = \\Delta h' - T \\Delta s'\n",
    "  $$\n",
    "\n"
   ]
  },
  {
   "cell_type": "markdown",
   "metadata": {},
   "source": [
    "## Implementation on python (PengRobinson EoS)"
   ]
  },
  {
   "cell_type": "code",
   "execution_count": 17,
   "metadata": {},
   "outputs": [
    {
     "name": "stdout",
     "output_type": "stream",
     "text": [
      "\n",
      " =======================================\n",
      "Δh_prime 1 = 6087.16 J/mol\n",
      "Δh_prime 2 = 323.45 J/mol\n",
      "The change in enthalpy for CH4 is 10031.59 J/mol\n",
      "\n",
      " =======================================\n",
      "Δs_prime 1 = 32.88 J/(mol*K)\n",
      "Δs_prime 2 = 0.76 J/(mol*K)\n",
      "The change in entropy for CH4  is 72.89 J/(mol*K)\n",
      "\n",
      " =======================================\n",
      "Δg_prime 1 = 393.24 J/mol\n",
      "Δg_prime 2 = 95.99 J/mol\n",
      "The change in Gibbs free energy for CH4  is -22439.58 J/mol\n",
      "\n",
      " =======================================\n",
      "Δv_prime 1 = 5.11e-04 m3/mol\n",
      "Δv_prime 2 = 5.28e-05 m3/mol\n",
      "The change in volume for CH4  is 1.74e-03 m3/mol\n",
      "\n",
      " =======================================\n",
      "Δu_prime 1 = 4783.16 J/mol\n",
      "Δu_prime 2 = 228.96 J/mol\n",
      "The change in internal energy for CH4  is 9861.39 J/mol\n"
     ]
    }
   ],
   "source": [
    "# Δh -------------------------------------\n",
    "def entalphy(T, ν, ω, Tc, Pc, R):\n",
    "\n",
    "    # Peng Robinson parameters\n",
    "    a = 0.45724*(R**2)*(Tc**2) /Pc\n",
    "    b = 0.07780*R*Tc/Pc\n",
    "    κ = 0.37464 + 1.54226*ω- 0.26992*(ω**2)\n",
    "\n",
    "    # Enthalpy calculation\n",
    "    Tr = T/Tc\n",
    "    α = (1+(1-Tr**(1/2))*κ)**2\n",
    "    Δh = -R*T*b / (ν - b) + a*α*ν / (ν**2 + 2*ν*b - b**2) - a*α/(2**(3/2)*b) * (1 + κ*(T/(α*Tc))**(1/2)) * np.log((ν + (1 - np.sqrt(2))*b)/(ν + (1 + np.sqrt(2))*b))\n",
    "    \n",
    "    return Δh\n",
    "\n",
    "Tc = 190            #K\n",
    "Pc = 4599*1000      #kpa ->Pa\n",
    "ω = 0.012\n",
    "Δh_prime =  entalphy(T1, ν1, ω, Tc, Pc, R) - entalphy(T2, ν2, ω, Tc, Pc, R) \n",
    "Δh = Δh_id + Δh_prime\n",
    "print(f\"\\n =======================================\")\n",
    "print(f\"Δh_prime 1 = {entalphy(T1, ν1, ω, Tc, Pc, R):.2f} J/mol\")\n",
    "print(f\"Δh_prime 2 = {entalphy(T2, ν2, ω, Tc, Pc, R):.2f} J/mol\")\n",
    "print(f'The change in enthalpy for CH4 is {Δh:.2f} J/mol')\n",
    "\n",
    "\n",
    "# Δs ----------------------------------------\n",
    "def peng_robinson_PExplicit(T, ν, Tc, Pc,  ω, R):\n",
    "\n",
    "    # Peng Robinson parameters -----------------------\n",
    "    a = 0.45724*(R**2)*(Tc**2) /Pc\n",
    "    b = 0.07780*R*Tc/Pc\n",
    "    κ = 0.37464 + 1.54226*ω- 0.26992*(ω**2)\n",
    "\n",
    "    Tr = T/Tc\n",
    "    α = (1+(1-Tr**(1/2))*κ)**2\n",
    "    P = R*T / (ν - b) - a * α / (ν**2 + 2*b*ν - b**2)\n",
    "    \n",
    "    return P\n",
    "\n",
    "\n",
    "def entrophy(T, ν, ω, Tc, Pc, R):\n",
    "\n",
    "    # Peng Robinson parameters\n",
    "    a = 0.45724*(R**2)*(Tc**2) /Pc\n",
    "    b = 0.07780*R*Tc/Pc\n",
    "    κ = 0.37464 + 1.54226*ω- 0.26992*(ω**2)\n",
    "    P = peng_robinson_PExplicit(T, ν, Tc, Pc, ω, R)\n",
    "\n",
    "\n",
    "    # Entropy calculation ----------------------------\n",
    "    Tr = T/Tc\n",
    "    α = (1+(1-Tr**(1/2))*κ)**2\n",
    "    Δs = R * np.log(R*T / ((ν - b)*P)) - (a*κ / (4*b)) * (2*α / (T*Tc))**0.5 * np.log((ν + (1 - np.sqrt(2))*b) / (ν + (1 + np.sqrt(2))*b))\n",
    "    \n",
    "    return Δs\n",
    "\n",
    "Δs_prime =  entrophy(T1, ν1, ω, Tc, Pc, R) - entrophy(T2, ν2, ω, Tc, Pc, R) \n",
    "Δs = Δs_id + Δs_prime\n",
    "print(f\"\\n =======================================\")\n",
    "print(f\"Δs_prime 1 = {entrophy(T1, ν1, ω, Tc, Pc, R):.2f} J/(mol*K)\")\n",
    "print(f\"Δs_prime 2 = {entrophy(T2, ν2, ω, Tc, Pc, R):.2f} J/(mol*K)\")\n",
    "print(f'The change in entropy for CH4  is {Δs:.2f} J/(mol*K)')\n",
    "\n",
    "# Δg ----------------------------------------\n",
    "# Δg = Δh - T*Δs\n",
    "h1_prime = entalphy(T1, ν1, ω, Tc, Pc, R)\n",
    "h2_prime = entalphy(T2, ν2, ω, Tc, Pc, R)\n",
    "s1_prime = entrophy(T1, ν1, ω, Tc, Pc, R)\n",
    "s2_prime = entrophy(T2, ν2, ω, Tc, Pc, R)\n",
    "\n",
    "Δg1_prime = h1_prime - T1 * s1_prime\n",
    "Δg2_prime = h2_prime - T2 * s2_prime\n",
    "Δg_prime = Δg1_prime - Δg2_prime\n",
    "Δg = Δg_id + Δg_prime\n",
    "print(f\"\\n =======================================\")\n",
    "print(f\"Δg_prime 1 = {Δg1_prime:.2f} J/mol\")\n",
    "print(f\"Δg_prime 2 = {Δg2_prime:.2f} J/mol\")\n",
    "print(f'The change in Gibbs free energy for CH4  is {Δg:.2f} J/mol')\n",
    "\n",
    "# Δv ----------------------------------------\n",
    "def volume(T, ν, ω, Tc, Pc, R):\n",
    "    P = peng_robinson_PExplicit(T, ν, Tc, Pc, ω, R)\n",
    "    return R*T/P - ν\n",
    "\n",
    "Δv_prime =  volume(T1, ν1, ω, Tc, Pc, R) - volume(T2, ν2, ω, Tc, Pc, R)\n",
    "Δν = Δν_id + Δv_prime\n",
    "print(f\"\\n =======================================\")\n",
    "print(f\"Δv_prime 1 = {volume(T1, ν1, ω, Tc, Pc, R):.2e} m3/mol\")\n",
    "print(f\"Δv_prime 2 = {volume(T2, ν2, ω, Tc, Pc, R):.2e} m3/mol\")\n",
    "print(f'The change in volume for CH4  is {Δν:.2e} m3/mol')\n",
    "\n",
    "# Δu ----------------------------------------\n",
    "#Δu_prime = Δh_prime - P*Δν_prime\n",
    "P1 = peng_robinson_PExplicit(T1, ν1, Tc, Pc, ω, R)\n",
    "h1_prime = entalphy(T1, ν1, ω, Tc, Pc, R)\n",
    "ν1_prime = volume(T1, ν1, ω, Tc, Pc, R)\n",
    "Δu1_prime = h1_prime - P1 * ν1_prime\n",
    "\n",
    "P2 = peng_robinson_PExplicit(T2, ν2, Tc, Pc, ω, R)\n",
    "h2_prime = entalphy(T2, ν2, ω, Tc, Pc, R)\n",
    "ν2_prime = volume(T2, ν2, ω, Tc, Pc, R)\n",
    "Δu2_prime = h2_prime - P2 * ν2_prime\n",
    "Δu_prime =  Δu1_prime - Δu2_prime \n",
    "Δu = Δu_id + Δu_prime\n",
    "print(f\"\\n =======================================\")\n",
    "print(f\"Δu_prime 1 = {Δu1_prime:.2f} J/mol\")\n",
    "print(f\"Δu_prime 2 = {Δu2_prime:.2f} J/mol\")\n",
    "print(f\"The change in internal energy for CH4  is {Δu:.2f} J/mol\")"
   ]
  },
  {
   "cell_type": "markdown",
   "metadata": {},
   "source": [
    "## Comparison with Literature (NIST)"
   ]
  },
  {
   "cell_type": "markdown",
   "metadata": {},
   "source": [
    "![image.png](Images\\GTP1_NISTComparison.png)"
   ]
  },
  {
   "cell_type": "code",
   "execution_count": 18,
   "metadata": {},
   "outputs": [
    {
     "data": {
      "application/vnd.microsoft.datawrangler.viewer.v0+json": {
       "columns": [
        {
         "name": "index",
         "rawType": "int64",
         "type": "integer"
        },
        {
         "name": "Property",
         "rawType": "object",
         "type": "string"
        },
        {
         "name": "CH₄ (Calculated PR EoS)",
         "rawType": "float64",
         "type": "float"
        },
        {
         "name": "CH₄ (NIST Real Gas)",
         "rawType": "object",
         "type": "unknown"
        }
       ],
       "conversionMethod": "pd.DataFrame",
       "ref": "62f4d0c0-fcd8-441a-b08e-81a88665bfc7",
       "rows": [
        [
         "0",
         "Δh [J/mol]",
         "10031.59",
         "10347.0"
        ],
        [
         "1",
         "Δs [J/mol·K]",
         "72.89",
         "61.63"
        ],
        [
         "2",
         "Δg [J/mol]",
         "-22439.58",
         "Not queried"
        ],
        [
         "3",
         "Δv [m³/mol]",
         "0.00174",
         "0.0012476"
        ],
        [
         "4",
         "Δu [J/mol]",
         "9861.39",
         "9126.6"
        ]
       ],
       "shape": {
        "columns": 3,
        "rows": 5
       }
      },
      "text/html": [
       "<div>\n",
       "<style scoped>\n",
       "    .dataframe tbody tr th:only-of-type {\n",
       "        vertical-align: middle;\n",
       "    }\n",
       "\n",
       "    .dataframe tbody tr th {\n",
       "        vertical-align: top;\n",
       "    }\n",
       "\n",
       "    .dataframe thead th {\n",
       "        text-align: right;\n",
       "    }\n",
       "</style>\n",
       "<table border=\"1\" class=\"dataframe\">\n",
       "  <thead>\n",
       "    <tr style=\"text-align: right;\">\n",
       "      <th></th>\n",
       "      <th>Property</th>\n",
       "      <th>CH₄ (Calculated PR EoS)</th>\n",
       "      <th>CH₄ (NIST Real Gas)</th>\n",
       "    </tr>\n",
       "  </thead>\n",
       "  <tbody>\n",
       "    <tr>\n",
       "      <th>0</th>\n",
       "      <td>Δh [J/mol]</td>\n",
       "      <td>10031.59000</td>\n",
       "      <td>10347.0</td>\n",
       "    </tr>\n",
       "    <tr>\n",
       "      <th>1</th>\n",
       "      <td>Δs [J/mol·K]</td>\n",
       "      <td>72.89000</td>\n",
       "      <td>61.63</td>\n",
       "    </tr>\n",
       "    <tr>\n",
       "      <th>2</th>\n",
       "      <td>Δg [J/mol]</td>\n",
       "      <td>-22439.58000</td>\n",
       "      <td>Not queried</td>\n",
       "    </tr>\n",
       "    <tr>\n",
       "      <th>3</th>\n",
       "      <td>Δv [m³/mol]</td>\n",
       "      <td>0.00174</td>\n",
       "      <td>0.001248</td>\n",
       "    </tr>\n",
       "    <tr>\n",
       "      <th>4</th>\n",
       "      <td>Δu [J/mol]</td>\n",
       "      <td>9861.39000</td>\n",
       "      <td>9126.6</td>\n",
       "    </tr>\n",
       "  </tbody>\n",
       "</table>\n",
       "</div>"
      ],
      "text/plain": [
       "       Property  CH₄ (Calculated PR EoS) CH₄ (NIST Real Gas)\n",
       "0    Δh [J/mol]              10031.59000             10347.0\n",
       "1  Δs [J/mol·K]                 72.89000               61.63\n",
       "2    Δg [J/mol]             -22439.58000         Not queried\n",
       "3   Δv [m³/mol]                  0.00174            0.001248\n",
       "4    Δu [J/mol]               9861.39000              9126.6"
      ]
     },
     "metadata": {},
     "output_type": "display_data"
    }
   ],
   "source": [
    "# CH₄ results (departure functions)\n",
    "ch4_calculated = {\n",
    "    \"Δh [J/mol]\": 10031.59,\n",
    "    \"Δs [J/mol·K]\": 72.89,\n",
    "    \"Δg [J/mol]\": -22439.58,\n",
    "    \"Δv [m³/mol]\": 1.74e-3,\n",
    "    \"Δu [J/mol]\": 9861.39\n",
    "}\n",
    "\n",
    "# CH₄ real gas values (from NIST)\n",
    "ch4_nist = {\n",
    "    \"Δh [J/mol]\": 10347.0,\n",
    "    \"Δs [J/mol·K]\": 61.63,\n",
    "    \"Δg [J/mol]\": None,\n",
    "    \"Δv [m³/mol]\": 0.0012476,\n",
    "    \"Δu [J/mol]\": 9126.6\n",
    "}\n",
    "\n",
    "# Create DataFrame\n",
    "df = pd.DataFrame({\n",
    "    \"Property\": ch4_calculated.keys(),\n",
    "    \"CH₄ (Calculated PR EoS)\": ch4_calculated.values(),\n",
    "    \"CH₄ (NIST Real Gas)\": [ch4_nist[k] if ch4_nist[k] is not None else \"Not queried\" for k in ch4_calculated]\n",
    "})\n",
    "\n",
    "# Display\n",
    "display(df)\n"
   ]
  }
 ],
 "metadata": {
  "kernelspec": {
   "display_name": "Python 3",
   "language": "python",
   "name": "python3"
  },
  "language_info": {
   "codemirror_mode": {
    "name": "ipython",
    "version": 3
   },
   "file_extension": ".py",
   "mimetype": "text/x-python",
   "name": "python",
   "nbconvert_exporter": "python",
   "pygments_lexer": "ipython3",
   "version": "3.13.2"
  }
 },
 "nbformat": 4,
 "nbformat_minor": 2
}
